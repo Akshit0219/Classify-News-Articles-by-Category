{
  "nbformat": 4,
  "nbformat_minor": 0,
  "metadata": {
    "colab": {
      "provenance": []
    },
    "kernelspec": {
      "name": "python3",
      "display_name": "Python 3"
    },
    "language_info": {
      "name": "python"
    }
  },
  "cells": [
    {
      "cell_type": "code",
      "source": [
        "# Install required libraries\n",
        "!pip install -q pandas scikit-learn numpy matplotlib seaborn joblib\n",
        "\n",
        "import pandas as pd\n",
        "import numpy as np\n",
        "from sklearn.model_selection import train_test_split\n",
        "from sklearn.preprocessing import LabelEncoder\n",
        "from sklearn.linear_model import LogisticRegression\n",
        "from sklearn.metrics import classification_report, confusion_matrix, accuracy_score\n",
        "import matplotlib.pyplot as plt\n",
        "import seaborn as sns\n",
        "from joblib import dump\n",
        "\n",
        "# Load the dataset\n",
        "df = pd.read_csv('/news_articles.csv')\n",
        "\n",
        "# Display dataset info\n",
        "print(\"Dataset shape:\", df.shape)\n",
        "print(\"\\nFirst 5 rows:\")\n",
        "print(df.head())\n",
        "print(\"\\nColumn names:\", df.columns.tolist())\n",
        "print(\"\\nCategory distribution:\")\n",
        "print(df['category'].value_counts())\n",
        "\n",
        "# Drop rows with missing values in feature columns\n",
        "df = df.dropna(subset=['word_count', 'has_keywords', 'read_time', 'category'])\n",
        "\n",
        "# Encode the target category\n",
        "label_encoder = LabelEncoder()\n",
        "df['category_encoded'] = label_encoder.fit_transform(df['category'])\n",
        "\n",
        "# Features and target\n",
        "X = df[['word_count', 'has_keywords', 'read_time']]\n",
        "y = df['category_encoded']\n",
        "\n",
        "# Train-test split\n",
        "X_train, X_test, y_train, y_test = train_test_split(\n",
        "    X, y, test_size=0.2, random_state=42, stratify=y\n",
        ")\n",
        "\n",
        "# Train Logistic Regression model\n",
        "model = LogisticRegression(max_iter=1000, class_weight='balanced')\n",
        "model.fit(X_train, y_train)\n",
        "\n",
        "# Evaluation\n",
        "y_pred = model.predict(X_test)\n",
        "\n",
        "print(\"\\nAccuracy:\", accuracy_score(y_test, y_pred))\n",
        "print(\"\\nClassification Report:\")\n",
        "print(classification_report(y_test, y_pred, target_names=label_encoder.classes_))\n",
        "\n",
        "# Confusion Matrix\n",
        "plt.figure(figsize=(8, 6))\n",
        "sns.heatmap(confusion_matrix(y_test, y_pred),\n",
        "            annot=True, fmt='d',\n",
        "            xticklabels=label_encoder.classes_,\n",
        "            yticklabels=label_encoder.classes_,\n",
        "            cmap='Blues')\n",
        "plt.title('Confusion Matrix')\n",
        "plt.xlabel('Predicted')\n",
        "plt.ylabel('Actual')\n",
        "plt.show()\n",
        "\n",
        "# Save model and encoders\n",
        "dump(model, 'news_metadata_classifier.joblib')\n",
        "dump(label_encoder, 'label_encoder.joblib')\n",
        "\n",
        "# Prediction function\n",
        "def predict_category(word_count, has_keywords, read_time):\n",
        "    features = np.array([[word_count, has_keywords, read_time]])\n",
        "    prediction = model.predict(features)\n",
        "    return label_encoder.inverse_transform(prediction)[0]\n",
        "\n",
        "# Example prediction\n",
        "print(\"\\nExample Prediction:\", predict_category(1200, 1, 8))\n"
      ],
      "metadata": {
        "colab": {
          "base_uri": "https://localhost:8080/",
          "height": 1000
        },
        "id": "oJVN0arIvwt4",
        "outputId": "6c838429-d32b-447b-e964-5bc64c8fb8e4"
      },
      "execution_count": 5,
      "outputs": [
        {
          "output_type": "stream",
          "name": "stdout",
          "text": [
            "Dataset shape: (100, 4)\n",
            "\n",
            "First 5 rows:\n",
            "   word_count  has_keywords  read_time  category\n",
            "0         142             0          3      tech\n",
            "1        1043             0          6  business\n",
            "2         442             1         12    sports\n",
            "3        1449             1         13      tech\n",
            "4        1937             1         10      tech\n",
            "\n",
            "Column names: ['word_count', 'has_keywords', 'read_time', 'category']\n",
            "\n",
            "Category distribution:\n",
            "category\n",
            "tech        38\n",
            "business    31\n",
            "sports      31\n",
            "Name: count, dtype: int64\n",
            "\n",
            "Accuracy: 0.3\n",
            "\n",
            "Classification Report:\n",
            "              precision    recall  f1-score   support\n",
            "\n",
            "    business       0.00      0.00      0.00         6\n",
            "      sports       0.40      0.67      0.50         6\n",
            "        tech       0.22      0.25      0.24         8\n",
            "\n",
            "    accuracy                           0.30        20\n",
            "   macro avg       0.21      0.31      0.25        20\n",
            "weighted avg       0.21      0.30      0.24        20\n",
            "\n"
          ]
        },
        {
          "output_type": "display_data",
          "data": {
            "text/plain": [
              "<Figure size 800x600 with 2 Axes>"
            ],
            "image/png": "[encoded data removed]"
          },
          "metadata": {}
        },
        {
          "output_type": "stream",
          "name": "stdout",
          "text": [
            "\n",
            "Example Prediction: business\n"
          ]
        },
        {
          "output_type": "stream",
          "name": "stderr",
          "text": [
            "/usr/local/lib/python3.11/dist-packages/sklearn/utils/validation.py:2739: UserWarning: X does not have valid feature names, but LogisticRegression was fitted with feature names\n",
            "  warnings.warn(\n"
          ]
        }
      ]
    }
  ]
}